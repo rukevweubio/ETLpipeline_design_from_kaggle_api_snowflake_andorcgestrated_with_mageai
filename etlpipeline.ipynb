import pandas as pd 
import psycopg2
from sqlachemy import create_engine